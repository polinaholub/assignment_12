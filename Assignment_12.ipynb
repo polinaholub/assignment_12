{
 "cells": [
  {
   "cell_type": "markdown",
   "metadata": {},
   "source": [
    "Write a decorator that ensures a function is only called by users with a specific role. Each function should have an user_type with a string type in kwargs"
   ]
  },
  {
   "cell_type": "code",
   "execution_count": 22,
   "metadata": {},
   "outputs": [
    {
     "name": "stdout",
     "output_type": "stream",
     "text": [
      "Receipt for user type: admin\n",
      "None\n"
     ]
    }
   ],
   "source": [
    "def is_admin(func):\n",
    "    def wrapper(*args, **kwargs):\n",
    "        if 'user_type' in kwargs and kwargs['user_type'] == 'admin':\n",
    "            return func(*args, **kwargs)\n",
    "        else:\n",
    "            raise ValueError('Permission denied')\n",
    "    return wrapper\n",
    "\n",
    "@is_admin\n",
    "def show_customer_receipt(user_type: str):\n",
    "    print('Receipt for user type:', user_type)\n",
    "\n",
    "#first = show_customer_receipt(user_type='user')\n",
    "#print(first)\n",
    "second = show_customer_receipt(user_type='admin')\n",
    "print(second)\n"
   ]
  },
  {
   "cell_type": "markdown",
   "metadata": {},
   "source": [
    "Write a decorator that will calculate the execution time of a function."
   ]
  },
  {
   "cell_type": "code",
   "execution_count": 6,
   "metadata": {},
   "outputs": [
    {
     "name": "stdout",
     "output_type": "stream",
     "text": [
      "add result: 3\n",
      "Execution time: 0.0000 seconds\n",
      "3\n"
     ]
    }
   ],
   "source": [
    "import time\n",
    "def calculate_execution_time(func):\n",
    "    def wrapper(*args, **kwargs):\n",
    "        start_time = time.time()\n",
    "        result = func(*args, **kwargs)\n",
    "        end_time = time.time()\n",
    "        execution_time = end_time - start_time\n",
    "        print(f\"{func.__name__} result: {result}\")\n",
    "        print(f\"Execution time: {execution_time:.4f} seconds\")\n",
    "        return result\n",
    "    return wrapper\n",
    "\n",
    "\n",
    "@calculate_execution_time\n",
    "def add(a: int, b: int) -> int:\n",
    "    return a + b\n",
    "\n",
    "result = add(1, 2)\n",
    "print(result)"
   ]
  },
  {
   "cell_type": "markdown",
   "metadata": {},
   "source": [
    "Write a decorator that wraps a function in a try-except block and prints an error if any type of error has happened"
   ]
  },
  {
   "cell_type": "code",
   "execution_count": 2,
   "metadata": {},
   "outputs": [
    {
     "name": "stdout",
     "output_type": "stream",
     "text": [
      "Found 1 error during execution of your function: KeyError no such key as 'key'\n",
      "bar\n"
     ]
    }
   ],
   "source": [
    "def catch_errors(func):\n",
    "    def wrapper(*args, **kwargs):\n",
    "        try:\n",
    "            return func(*args, **kwargs)\n",
    "        except KeyError as err:\n",
    "            print(f\"Found 1 error during execution of your function: KeyError no such key as '{err.args[0]}'\" )\n",
    "    return wrapper\n",
    "\n",
    "\n",
    "@catch_errors\n",
    "def some_function_with_risky_operation(data):\n",
    "    print(data['key'])\n",
    "\n",
    "\n",
    "some_function_with_risky_operation({'foo': 'bar'})\n",
    "some_function_with_risky_operation({'key': 'bar'})\n",
    "\n"
   ]
  },
  {
   "cell_type": "markdown",
   "metadata": {},
   "source": [
    " Optional: Create a decorator that will check types. It should take a function with arguments and validate inputs with annotations. It should work for all possible functions. Don`t forget to check the return type as well"
   ]
  },
  {
   "cell_type": "code",
   "execution_count": 8,
   "metadata": {},
   "outputs": [
    {
     "data": {
      "text/plain": [
       "3"
      ]
     },
     "execution_count": 8,
     "metadata": {},
     "output_type": "execute_result"
    }
   ],
   "source": [
    "def check_types(func):\n",
    "    def wrapper(*args, **kwargs):\n",
    "        arg_types = list(func.__annotations__.values())[:-1]\n",
    "        return_type = func.__annotations__.get('return', None)\n",
    "                        \n",
    "        for  arg, arg_type in zip(args, arg_types):\n",
    "            if not isinstance(arg, arg_type):\n",
    "                raise TypeError(f'Argument {arg} must be {arg_type.__name__}, not {type(arg).__name__}')\n",
    "        result = func(*args, **kwargs)\n",
    "\n",
    "        if return_type is not None and not isinstance(result, return_type):\n",
    "            raise TypeError(f'Return value must be {return_type.__name__}, not {type(result).__name__} ')\n",
    "        return result\n",
    "\n",
    "    return wrapper\n",
    "\n",
    "\n",
    "@check_types\n",
    "def add(a: int, b: int) -> int:\n",
    "    return a + b\n",
    "\n",
    "add(1, 2)\n",
    "\n",
    "\n",
    "#add(\"1\", \"2\")\n"
   ]
  },
  {
   "cell_type": "markdown",
   "metadata": {},
   "source": [
    " Optional: Create a function that caches the result of a function, so that if it is called with the same argument multiple times, it returns the cached result first instead of re-executing the function.\n",
    "\n",
    " https://realpython.com/lru-cache-python/ \\\n",
    " https://dbader.org/blog/python-memoization"
   ]
  },
  {
   "cell_type": "code",
   "execution_count": 7,
   "metadata": {},
   "outputs": [],
   "source": [
    "import requests\n",
    "import functools\n",
    "from functools import lru_cache\n"
   ]
  },
  {
   "cell_type": "code",
   "execution_count": 8,
   "metadata": {},
   "outputs": [],
   "source": [
    "#exaple of using\n",
    "\n",
    "@functools.lru_cache(maxsize=128)\n",
    "def fibonacci(n):\n",
    "    if n == 0:\n",
    "        return 0\n",
    "    elif n == 1:\n",
    "        return 1\n",
    "    return fibonacci(n - 1) + fibonacci(n - 2)"
   ]
  },
  {
   "cell_type": "code",
   "execution_count": 15,
   "metadata": {},
   "outputs": [
    {
     "name": "stdout",
     "output_type": "stream",
     "text": [
      "34\n"
     ]
    }
   ],
   "source": [
    "import functools\n",
    "\n",
    "def memorize(func):\n",
    "\n",
    "    @functools.lru_cache(maxsize=128)\n",
    "    def wrapper(*args, **kwargs):\n",
    "        return func(*args, **kwargs)\n",
    "\n",
    "    return wrapper\n",
    "\n",
    "@memorize\n",
    "def fibonacci(n):\n",
    "    if n <= 1:\n",
    "        return n \n",
    "    else:\n",
    "        return fibonacci(n - 1) + fibonacci(n - 2)\n",
    "\n",
    "print(fibonacci(9))"
   ]
  }
 ],
 "metadata": {
  "kernelspec": {
   "display_name": "Python 3",
   "language": "python",
   "name": "python3"
  },
  "language_info": {
   "codemirror_mode": {
    "name": "ipython",
    "version": 3
   },
   "file_extension": ".py",
   "mimetype": "text/x-python",
   "name": "python",
   "nbconvert_exporter": "python",
   "pygments_lexer": "ipython3",
   "version": "3.11.4"
  },
  "orig_nbformat": 4
 },
 "nbformat": 4,
 "nbformat_minor": 2
}
