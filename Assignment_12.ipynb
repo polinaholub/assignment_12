{
 "cells": [
  {
   "cell_type": "markdown",
   "metadata": {},
   "source": [
    "Write a decorator that ensures a function is only called by users with a specific role. Each function should have an user_type with a string type in kwargs"
   ]
  },
  {
   "cell_type": "code",
   "execution_count": 22,
   "metadata": {},
   "outputs": [
    {
     "name": "stdout",
     "output_type": "stream",
     "text": [
      "Receipt for user type: admin\n",
      "None\n"
     ]
    }
   ],
   "source": [
    "def is_admin(func):\n",
    "    def wrapper(*args, **kwargs):\n",
    "        if 'user_type' in kwargs and kwargs['user_type'] == 'admin':\n",
    "            return func(*args, **kwargs)\n",
    "        else:\n",
    "            raise ValueError('Permission denied')\n",
    "    return wrapper\n",
    "\n",
    "@is_admin\n",
    "def show_customer_receipt(user_type: str):\n",
    "    print('Receipt for user type:', user_type)\n",
    "\n",
    "#first = show_customer_receipt(user_type='user')\n",
    "#print(first)\n",
    "second = show_customer_receipt(user_type='admin')\n",
    "print(second)\n"
   ]
  },
  {
   "cell_type": "markdown",
   "metadata": {},
   "source": [
    "Write a decorator that will calculate the execution time of a function."
   ]
  },
  {
   "cell_type": "code",
   "execution_count": 10,
   "metadata": {},
   "outputs": [
    {
     "name": "stdout",
     "output_type": "stream",
     "text": [
      "3\n"
     ]
    }
   ],
   "source": [
    "def calculate_execution_time(func):\n",
    "    def wrapper(*args, **kwargs):\n",
    "        func(*args, **kwargs)\n",
    "        return func(*args, **kwargs)\n",
    "    return wrapper\n",
    "\n",
    "\n",
    "@calculate_execution_time\n",
    "def add(a: int, b: int) -> int:\n",
    "    return a + b\n",
    "\n",
    "result = add(1, 2)\n",
    "print(result)"
   ]
  },
  {
   "cell_type": "markdown",
   "metadata": {},
   "source": [
    "Write a decorator that wraps a function in a try-except block and prints an error if any type of error has happened"
   ]
  },
  {
   "cell_type": "code",
   "execution_count": 2,
   "metadata": {},
   "outputs": [
    {
     "name": "stdout",
     "output_type": "stream",
     "text": [
      "Found 1 error during execution of your function: KeyError no such key as 'key'\n",
      "bar\n"
     ]
    }
   ],
   "source": [
    "def catch_errors(func):\n",
    "    def wrapper(*args, **kwargs):\n",
    "        try:\n",
    "            return func(*args, **kwargs)\n",
    "        except KeyError as err:\n",
    "            print(f\"Found 1 error during execution of your function: KeyError no such key as '{err.args[0]}'\" )\n",
    "    return wrapper\n",
    "\n",
    "\n",
    "@catch_errors\n",
    "def some_function_with_risky_operation(data):\n",
    "    print(data['key'])\n",
    "\n",
    "\n",
    "some_function_with_risky_operation({'foo': 'bar'})\n",
    "some_function_with_risky_operation({'key': 'bar'})\n",
    "\n"
   ]
  },
  {
   "cell_type": "markdown",
   "metadata": {},
   "source": [
    " Optional: Create a decorator that will check types. It should take a function with arguments and validate inputs with annotations. It should work for all possible functions. Don`t forget to check the return type as well"
   ]
  },
  {
   "cell_type": "code",
   "execution_count": 18,
   "metadata": {},
   "outputs": [
    {
     "data": {
      "text/plain": [
       "3"
      ]
     },
     "execution_count": 18,
     "metadata": {},
     "output_type": "execute_result"
    }
   ],
   "source": [
    "def check_types(func):\n",
    "    def wrapper(*args, **kwargs):\n",
    "        if all(map(lambda args: isinstance(args, int), args)) and all(map(lambda kwargs: isinstance(kwargs, int), kwargs)):\n",
    "            return func(*args, **kwargs)\n",
    "        else:\n",
    "            raise TypeError('Argument {a} or {b} must be int, not {err}')\n",
    "    return wrapper\n",
    "\n",
    "\n",
    "@check_types\n",
    "def add(a: int, b: int) -> int:\n",
    "    return a + b\n",
    "\n",
    "add(1, 2)\n",
    "\n",
    "\n",
    "#add(\"1\", \"2\")\n"
   ]
  },
  {
   "cell_type": "markdown",
   "metadata": {},
   "source": [
    " Optional: Create a function that caches the result of a function, so that if it is called with the same argument multiple times, it returns the cached result first instead of re-executing the function.\n",
    "\n",
    " https://realpython.com/lru-cache-python/ \\\n",
    " https://dbader.org/blog/python-memoization"
   ]
  },
  {
   "cell_type": "code",
   "execution_count": 7,
   "metadata": {},
   "outputs": [],
   "source": [
    "import requests\n",
    "import functools\n",
    "from functools import lru_cache\n"
   ]
  },
  {
   "cell_type": "code",
   "execution_count": 8,
   "metadata": {},
   "outputs": [],
   "source": [
    "#exaple of using\n",
    "\n",
    "@functools.lru_cache(maxsize=128)\n",
    "def fibonacci(n):\n",
    "    if n == 0:\n",
    "        return 0\n",
    "    elif n == 1:\n",
    "        return 1\n",
    "    return fibonacci(n - 1) + fibonacci(n - 2)"
   ]
  },
  {
   "cell_type": "code",
   "execution_count": 25,
   "metadata": {},
   "outputs": [],
   "source": [
    "def memorize(func):\n",
    "    cache = ()\n",
    "\n",
    "    def memorized_func(*args):\n",
    "        if args in cache:\n",
    "            return cache[args]\n",
    "        result = func(*args)\n",
    "        cashe[args] = result\n",
    "        return result\n",
    "    \n",
    "    return memorized_func"
   ]
  },
  {
   "cell_type": "markdown",
   "metadata": {},
   "source": [
    "Optional: Write a decorator that adds a rate-limiter to a function, so that it can only be called a certain amount of times per minute"
   ]
  },
  {
   "cell_type": "code",
   "execution_count": null,
   "metadata": {},
   "outputs": [],
   "source": []
  }
 ],
 "metadata": {
  "kernelspec": {
   "display_name": "Python 3",
   "language": "python",
   "name": "python3"
  },
  "language_info": {
   "codemirror_mode": {
    "name": "ipython",
    "version": 3
   },
   "file_extension": ".py",
   "mimetype": "text/x-python",
   "name": "python",
   "nbconvert_exporter": "python",
   "pygments_lexer": "ipython3",
   "version": "3.11.4"
  },
  "orig_nbformat": 4
 },
 "nbformat": 4,
 "nbformat_minor": 2
}
